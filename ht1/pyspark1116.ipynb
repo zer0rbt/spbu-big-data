{
 "cells": [
  {
   "cell_type": "code",
   "execution_count": 1,
   "id": "93e2a65b-934c-4050-a687-74c985fcacec",
   "metadata": {},
   "outputs": [],
   "source": [
    "from pyspark import SparkContext"
   ]
  },
  {
   "cell_type": "code",
   "execution_count": 2,
   "id": "b48cac47-d206-4b8a-a4ee-64554a33c786",
   "metadata": {},
   "outputs": [],
   "source": [
    " sc = SparkContext(\"local\", \"Count Letters\")"
   ]
  },
  {
   "cell_type": "code",
   "execution_count": 3,
   "id": "369ff065-2b56-4ae2-ad33-ff26b0ea995b",
   "metadata": {},
   "outputs": [],
   "source": [
    "rdd = sc.textFile(\"input.txt\")"
   ]
  },
  {
   "cell_type": "markdown",
   "id": "7e11afe3-a494-4534-848b-aee560510bcb",
   "metadata": {},
   "source": [
    "Map-reduce sequnce"
   ]
  },
  {
   "cell_type": "code",
   "execution_count": 4,
   "id": "8656cb87-92eb-4e56-b356-12819298e30a",
   "metadata": {},
   "outputs": [],
   "source": [
    "letters = ['a', 'b']\n",
    "count = [rdd.map(lambda line: line.count(letter)).reduce(lambda x, y: x + y) for letter in letters]"
   ]
  },
  {
   "cell_type": "code",
   "execution_count": 11,
   "id": "ef670c96-7354-47f6-a590-b905a9d5abf9",
   "metadata": {},
   "outputs": [
    {
     "name": "stdout",
     "output_type": "stream",
     "text": [
      "file:\n",
      "    bubble\n",
      "    tea\n",
      "    company\n",
      "    runs\n",
      "    a\n",
      "    samll\n",
      "    commercial\n",
      "    to\n",
      "    attract\n",
      "    customers\n",
      "\n",
      "1. 'a': 7\n",
      "2. 'b': 3\n"
     ]
    }
   ],
   "source": [
    "with open('input.txt') as f:\n",
    "    print(\"file:\")\n",
    "    print('    ' + '    '.join(f.readlines()))\n",
    "\n",
    "print()\n",
    "for i, e in enumerate(letters):\n",
    "    print(f\"{i + 1}. '{e}': {count[i]}\")"
   ]
  },
  {
   "cell_type": "code",
   "execution_count": 6,
   "id": "282fc5a3-b69b-4305-8094-6130e445673d",
   "metadata": {},
   "outputs": [],
   "source": [
    "sc.stop()"
   ]
  },
  {
   "cell_type": "code",
   "execution_count": null,
   "id": "e7ac4c32-e0fb-466d-8118-229a8d3b98c8",
   "metadata": {},
   "outputs": [],
   "source": []
  }
 ],
 "metadata": {
  "kernelspec": {
   "display_name": "Python 3 (ipykernel)",
   "language": "python",
   "name": "python3"
  },
  "language_info": {
   "codemirror_mode": {
    "name": "ipython",
    "version": 3
   },
   "file_extension": ".py",
   "mimetype": "text/x-python",
   "name": "python",
   "nbconvert_exporter": "python",
   "pygments_lexer": "ipython3",
   "version": "3.11.6"
  }
 },
 "nbformat": 4,
 "nbformat_minor": 5
}
